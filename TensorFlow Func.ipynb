{
 "cells": [
  {
   "cell_type": "markdown",
   "metadata": {},
   "source": [
    "### TensorFlow 中的函式 用 Numpy 來表達擬寫"
   ]
  },
  {
   "cell_type": "code",
   "execution_count": 1,
   "metadata": {},
   "outputs": [],
   "source": [
    "import tensorflow as tf\n",
    "import numpy as np\n",
    "import matplotlib.pyplot as plt\n",
    "plt.style.use('classic')\n",
    "%matplotlib inline"
   ]
  },
  {
   "cell_type": "markdown",
   "metadata": {},
   "source": [
    "## tf.xxx"
   ]
  },
  {
   "cell_type": "markdown",
   "metadata": {},
   "source": [
    "### 四維運算 + 內積\n",
    "https://www.tensorflow.org/api_guides/python/math_ops"
   ]
  },
  {
   "cell_type": "code",
   "execution_count": 2,
   "metadata": {},
   "outputs": [
    {
     "name": "stdout",
     "output_type": "stream",
     "text": [
      "add(+):\n",
      "  [[ True  True]\n",
      " [ True  True]]\n",
      "subtract(-):\n",
      "  [[ True  True]\n",
      " [ True  True]]\n",
      "multiply(*):\n",
      "  [[ True  True]\n",
      " [ True  True]]\n",
      "divide(/):\n",
      "  [[ True  True]\n",
      " [ True  True]]\n"
     ]
    }
   ],
   "source": [
    "a = tf.constant([[1, 2], [2, 1]])\n",
    "b = tf.constant([[5, 4], [3, 2]])\n",
    "c1 = a + b\n",
    "c2 = tf.add(a, b)\n",
    "d1 = a - b\n",
    "d2 = tf.subtract(a, b)\n",
    "e1 = a * b\n",
    "e2 = tf.multiply(a, b)\n",
    "f1 = a / b\n",
    "f2 = tf.divide(a, b)\n",
    "with tf.Session() as sess:\n",
    "    print('add(+):\\n ', sess.run(c1) == sess.run(c2))\n",
    "    print('subtract(-):\\n ', sess.run(d1) == sess.run(d2))\n",
    "    print('multiply(*):\\n ', sess.run(e1) == sess.run(e2))\n",
    "    print('divide(/):\\n ', sess.run(f1) == sess.run(f2))"
   ]
  },
  {
   "cell_type": "code",
   "execution_count": 3,
   "metadata": {},
   "outputs": [
    {
     "name": "stdout",
     "output_type": "stream",
     "text": [
      "matmul(dot):\n",
      "  [[ True  True]\n",
      " [ True  True]]\n"
     ]
    }
   ],
   "source": [
    "a = np.array([[1, 2], [2, 1]])\n",
    "b = np.array([[5, 4], [3, 2]])\n",
    "g1 = np.dot(a, b)\n",
    "g2 = tf.matmul(a, b)\n",
    "with tf.Session() as sess:\n",
    "    g2 = sess.run(g2)\n",
    "print('matmul(dot):\\n ', g1 == g2)"
   ]
  },
  {
   "cell_type": "markdown",
   "metadata": {},
   "source": [
    "### 其他func"
   ]
  },
  {
   "cell_type": "code",
   "execution_count": 4,
   "metadata": {},
   "outputs": [
    {
     "name": "stdout",
     "output_type": "stream",
     "text": [
      "a:\n",
      " [[9 8 2 7 2 5]\n",
      " [7 6 8 8 0 1]]\n",
      "b:\n",
      " [[6 6 4 6 4 5]\n",
      " [6 6 6 6 4 4]]\n"
     ]
    }
   ],
   "source": [
    "# tf.clip_by_value(A, min, max) 不影響 shape 將內元素限制在 min ~ max\n",
    "a = np.random.choice(np.arange(10), size=[2, 6])\n",
    "b = tf.clip_by_value(a, 4, 6) # 限制 4~6\n",
    "with tf.Session() as sess:\n",
    "    print('a:\\n', a)\n",
    "    print('b:\\n', sess.run(b))"
   ]
  },
  {
   "cell_type": "code",
   "execution_count": 5,
   "metadata": {},
   "outputs": [
    {
     "name": "stdout",
     "output_type": "stream",
     "text": [
      "WARNING:tensorflow:From <ipython-input-5-49ecb2f08bf0>:4: arg_max (from tensorflow.python.ops.gen_math_ops) is deprecated and will be removed in a future version.\n",
      "Instructions for updating:\n",
      "Use `argmax` instead\n",
      "x:\n",
      " [[-0.77441295  2.97943921 -0.19045298  2.21287382 -0.42484793]\n",
      " [ 1.59754287 -0.22205276  1.21919662  2.08695258  0.0115573 ]\n",
      " [-0.41994477  0.89038983  0.3932712   1.15122304  1.53207523]]\n",
      "c:\n",
      " [1 0 1 0 2]\n",
      "a == b : True\n",
      "a == c : True\n"
     ]
    }
   ],
   "source": [
    "# tf.arg_max & tf.argmax   (tf.arg_max將要棄用) 選用axis 最大值的 index\n",
    "# tf.arg_min & tf.argmin 雷同 最小值的 index\n",
    "x = np.random.normal(size=[3, 5])\n",
    "tf_arg_max = tf.arg_max(x, dimension=0) # tf.arg_max未來版本要刪除, 建議改用tf.argmax\n",
    "tf_argmax = tf.argmax(x, axis=0)\n",
    "with tf.Session() as sess:\n",
    "    a = sess.run(tf_arg_max)\n",
    "    b = sess.run(tf_argmax)\n",
    "c = x.argmax(0)\n",
    "print('x:\\n', x)\n",
    "print('c:\\n', c)\n",
    "print('a == b :', np.sum(a - b)**2 < 1e-15)\n",
    "print('a == c :', np.sum(a - c)**2 < 1e-15)"
   ]
  },
  {
   "cell_type": "code",
   "execution_count": 6,
   "metadata": {},
   "outputs": [
    {
     "name": "stdout",
     "output_type": "stream",
     "text": [
      "a:\n",
      " [0.91161662 0.06806301 0.16688731 0.59735862 0.71878579 0.33459992]\n",
      "b:\n",
      " [0.91791862 0.04720472 0.3247094  0.11774676 0.10844537 0.65455398]\n",
      "c:\n",
      " [False  True False  True  True False]\n",
      "c == d :\n",
      " [ True  True  True  True  True  True]\n"
     ]
    }
   ],
   "source": [
    "# tf.greater(a, b), a b same shape 比較兩者元素數值 (a>b output T) (a<=b output F)\n",
    "a, b = np.random.uniform(size=[2, 6])\n",
    "c = a > b\n",
    "d = tf.greater(a, b)\n",
    "with tf.Session() as sess:\n",
    "    d = sess.run(d)\n",
    "print('a:\\n', a)\n",
    "print('b:\\n', b)\n",
    "print('c:\\n', c)\n",
    "print('c == d :\\n', d == c)"
   ]
  },
  {
   "cell_type": "code",
   "execution_count": 7,
   "metadata": {},
   "outputs": [
    {
     "name": "stdout",
     "output_type": "stream",
     "text": [
      "a:\n",
      " [[ True False False False False]\n",
      " [False False  True False False]]\n",
      "d:\n",
      " [[1. 0. 0. 0. 0.]\n",
      " [0. 0. 1. 0. 0.]]\n"
     ]
    }
   ],
   "source": [
    "# tf.where(a, x, y) a.dtype = bool , a, x, y 同shape, a為 T輸出x F則為y \n",
    "a = np.random.normal(size=[2, 5])>0\n",
    "x = np.ones(a.shape)\n",
    "y = np.zeros(a.shape)\n",
    "d = tf.where(a, x ,y)\n",
    "with tf.Session() as sess:\n",
    "    print('a:\\n', a)\n",
    "    print('d:\\n', sess.run(d))"
   ]
  },
  {
   "cell_type": "code",
   "execution_count": 8,
   "metadata": {},
   "outputs": [],
   "source": [
    "# tf.equal(): ==\n",
    "# tf.cast(): astype"
   ]
  },
  {
   "cell_type": "markdown",
   "metadata": {},
   "source": [
    "## Activation Func"
   ]
  },
  {
   "cell_type": "code",
   "execution_count": 9,
   "metadata": {},
   "outputs": [],
   "source": [
    "x = np.random.normal(size=[5, 10])"
   ]
  },
  {
   "cell_type": "markdown",
   "metadata": {},
   "source": [
    "### Sigmoid function"
   ]
  },
  {
   "cell_type": "markdown",
   "metadata": {},
   "source": [
    "https://zh.wikipedia.org/wiki/S%E5%87%BD%E6%95%B0"
   ]
  },
  {
   "cell_type": "markdown",
   "metadata": {},
   "source": [
    "![Image of Yaktocat](https://wikimedia.org/api/rest_v1/media/math/render/svg/a26a3fa3cbb41a3abfe4c7ff88d47f0181489d13)"
   ]
  },
  {
   "cell_type": "code",
   "execution_count": 10,
   "metadata": {},
   "outputs": [
    {
     "name": "stdout",
     "output_type": "stream",
     "text": [
      "a == b : True\n",
      "a == c : True\n"
     ]
    }
   ],
   "source": [
    "# sigmoid(x)\n",
    "tfsig = tf.sigmoid(x)\n",
    "tfnnsig = tf.nn.sigmoid(x)\n",
    "with tf.Session() as sess:\n",
    "    a = sess.run(tfsig)\n",
    "    b = sess.run(tfnnsig)\n",
    "c = (1 + np.exp(-x))**-1 # Numpy 計算\n",
    "print('a == b :', np.sum(a - b)**2 < 1e-15) # tf.nn.sigmoid(x) == tf.sigmoid(x)\n",
    "print('a == c :', np.sum(a - c)**2 < 1e-15)"
   ]
  },
  {
   "cell_type": "markdown",
   "metadata": {},
   "source": [
    "### Softmax"
   ]
  },
  {
   "cell_type": "markdown",
   "metadata": {},
   "source": [
    "https://zh.wikipedia.org/wiki/Softmax%E5%87%BD%E6%95%B0"
   ]
  },
  {
   "cell_type": "markdown",
   "metadata": {},
   "source": [
    "![Image of Yaktocat](https://wikimedia.org/api/rest_v1/media/math/render/svg/e348290cf48ddbb6e9a6ef4e39363568b67c09d3)"
   ]
  },
  {
   "cell_type": "code",
   "execution_count": 11,
   "metadata": {},
   "outputs": [
    {
     "name": "stdout",
     "output_type": "stream",
     "text": [
      "a == b : True\n",
      "a == c : True\n"
     ]
    }
   ],
   "source": [
    "# softmax(x)\n",
    "tfnnsfmax = tf.nn.softmax(x)\n",
    "tf_sfmax = tf.exp(x)/tf.reshape(tf.reduce_sum(tf.exp(x), axis=1), [-1,1]) # TensorFlow 計算\n",
    "with tf.Session() as sess:\n",
    "    a = sess.run(tfnnsfmax)\n",
    "    b = sess.run(tf_sfmax)\n",
    "c = np.exp(x)/np.exp(x).sum(1)[:,np.newaxis] # Numpy 計算\n",
    "print('a == b :', np.sum(a - b)**2 < 1e-15)\n",
    "print('a == c :', np.sum(a - c)**2 < 1e-15)"
   ]
  },
  {
   "cell_type": "markdown",
   "metadata": {},
   "source": [
    "### Cross Entropy "
   ]
  },
  {
   "cell_type": "markdown",
   "metadata": {},
   "source": [
    "https://zh.wikipedia.org/wiki/%E4%BA%A4%E5%8F%89%E7%86%B5"
   ]
  },
  {
   "cell_type": "markdown",
   "metadata": {},
   "source": [
    "![Image of Yaktocat](https://wikimedia.org/api/rest_v1/media/math/render/svg/bb11eae1b2b1120c2bcccf741a51c2511c0cbffe)"
   ]
  },
  {
   "cell_type": "code",
   "execution_count": 12,
   "metadata": {},
   "outputs": [
    {
     "name": "stdout",
     "output_type": "stream",
     "text": [
      "a == b : True\n"
     ]
    }
   ],
   "source": [
    "# cross_entropy\n",
    "x = np.random.random(size=[5, 10])\n",
    "y = np.random.random(size=[5, 10])\n",
    "y = (y == y.max(1)[:, np.newaxis]).astype(int)\n",
    "tf_cross_entropy = tf.reduce_mean(-tf.reduce_sum(y * tf.log(x), axis=1)) # TensorFlow 計算\n",
    "with tf.Session() as sess:\n",
    "    a = sess.run(tf_cross_entropy)\n",
    "b = -(y * np.log(x)).sum(1).mean()\n",
    "print('a == b :', np.sum(a- b)**2 < 1e-15)"
   ]
  },
  {
   "cell_type": "markdown",
   "metadata": {},
   "source": [
    "### ReLU"
   ]
  },
  {
   "cell_type": "markdown",
   "metadata": {},
   "source": [
    "https://zh.wikipedia.org/wiki/%E7%BA%BF%E6%80%A7%E6%95%B4%E6%B5%81%E5%87%BD%E6%95%B0"
   ]
  },
  {
   "cell_type": "markdown",
   "metadata": {},
   "source": [
    "![Image of Yaktocat](https://wikimedia.org/api/rest_v1/media/math/render/svg/5fa5d3598751091eed580bd9dca873f496a2d0ac)"
   ]
  },
  {
   "cell_type": "code",
   "execution_count": 13,
   "metadata": {},
   "outputs": [
    {
     "data": {
      "text/plain": [
       "[<matplotlib.lines.Line2D at 0x29b65f17080>]"
      ]
     },
     "execution_count": 13,
     "metadata": {},
     "output_type": "execute_result"
    },
    {
     "data": {
      "image/png": "[encoded data removed]",
      "text/plain": [
       "<Figure size 432x288 with 1 Axes>"
      ]
     },
     "metadata": {
      "needs_background": "light"
     },
     "output_type": "display_data"
    }
   ],
   "source": [
    "x = np.random.uniform(-1, 1, size=50)\n",
    "plt.plot(x, x, '.g')"
   ]
  },
  {
   "cell_type": "code",
   "execution_count": 14,
   "metadata": {},
   "outputs": [
    {
     "name": "stdout",
     "output_type": "stream",
     "text": [
      "a == b : True\n"
     ]
    },
    {
     "data": {
      "text/plain": [
       "[<matplotlib.lines.Line2D at 0x29b751a1908>]"
      ]
     },
     "execution_count": 14,
     "metadata": {},
     "output_type": "execute_result"
    },
    {
     "data": {
      "image/png": "[encoded data removed]",
      "text/plain": [
       "<Figure size 432x288 with 1 Axes>"
      ]
     },
     "metadata": {
      "needs_background": "light"
     },
     "output_type": "display_data"
    }
   ],
   "source": [
    "tf_relu = tf.nn.relu(x)\n",
    "with tf.Session() as sess:\n",
    "    a = sess.run(tf_relu)\n",
    "b = np.maximum(0, x)\n",
    "print('a == b :', np.sum(a - b)**2 < 1e-15)\n",
    "plt.plot(x, x, '.g')\n",
    "plt.plot(x, a, '.r')"
   ]
  },
  {
   "cell_type": "code",
   "execution_count": 15,
   "metadata": {},
   "outputs": [],
   "source": [
    "# tf.nn.relu6() 數值介於0~6 大於6值轉換成6"
   ]
  },
  {
   "cell_type": "markdown",
   "metadata": {},
   "source": [
    "### Activation Fun(激勵函數) 畫圖"
   ]
  },
  {
   "cell_type": "code",
   "execution_count": 16,
   "metadata": {},
   "outputs": [
    {
     "data": {
      "text/plain": [
       "(-3, 3)"
      ]
     },
     "execution_count": 16,
     "metadata": {},
     "output_type": "execute_result"
    },
    {
     "data": {
      "image/png": "[encoded data removed]",
      "text/plain": [
       "<Figure size 432x288 with 1 Axes>"
      ]
     },
     "metadata": {
      "needs_background": "light"
     },
     "output_type": "display_data"
    }
   ],
   "source": [
    "x = np.linspace(-5, 5, 201)\n",
    "\n",
    "tf_tanh = tf.nn.tanh(x) # tanh\n",
    "tf_sig = tf.sigmoid(x) # sigmoid\n",
    "tf_relu = tf.nn.relu(x) # relu\n",
    "with tf.Session() as sess:\n",
    "    a = sess.run(tf_tanh)\n",
    "    b = sess.run(tf_sig)\n",
    "    c = sess.run(tf_relu)\n",
    "plt.plot(x, a, '-r')\n",
    "plt.plot(x, b, '-b')\n",
    "plt.plot(x, c, '-g')\n",
    "plt.ylim(-1.2, 1.2)\n",
    "plt.xlim(-3, 3)"
   ]
  },
  {
   "cell_type": "markdown",
   "metadata": {},
   "source": [
    "## Dropout"
   ]
  },
  {
   "cell_type": "code",
   "execution_count": 17,
   "metadata": {},
   "outputs": [],
   "source": [
    "x = np.ones(shape=10000)\n",
    "dropout = tf.nn.dropout(x, keep_prob=0.5)\n",
    "\n",
    "with tf.Session() as sess:\n",
    "    dpout = sess.run(dropout)"
   ]
  },
  {
   "cell_type": "markdown",
   "metadata": {},
   "source": [
    "#### shpae 相同!!"
   ]
  },
  {
   "cell_type": "code",
   "execution_count": 18,
   "metadata": {},
   "outputs": [
    {
     "name": "stdout",
     "output_type": "stream",
     "text": [
      "x.shape = dpout.shape :  True\n"
     ]
    }
   ],
   "source": [
    "print('x.shape = dpout.shape : ', x.shape == dpout.shape)"
   ]
  },
  {
   "cell_type": "markdown",
   "metadata": {},
   "source": [
    "#### 資料轉換前後總和差異不大"
   ]
  },
  {
   "cell_type": "code",
   "execution_count": 19,
   "metadata": {},
   "outputs": [
    {
     "name": "stdout",
     "output_type": "stream",
     "text": [
      "1.78%\n"
     ]
    }
   ],
   "source": [
    "print('%.2f%%'%((x.mean() - dpout.mean())*100))"
   ]
  },
  {
   "cell_type": "markdown",
   "metadata": {},
   "source": [
    "#### 約50%的資料轉成0 (每次隨機)"
   ]
  },
  {
   "cell_type": "code",
   "execution_count": 20,
   "metadata": {},
   "outputs": [
    {
     "data": {
      "text/plain": [
       "50.89"
      ]
     },
     "execution_count": 20,
     "metadata": {},
     "output_type": "execute_result"
    }
   ],
   "source": [
    "(dpout == 0).sum()*100/(x != 0).sum()"
   ]
  },
  {
   "cell_type": "markdown",
   "metadata": {},
   "source": [
    "#### 沒有轉成0的資料變成倍數"
   ]
  },
  {
   "cell_type": "code",
   "execution_count": 21,
   "metadata": {},
   "outputs": [
    {
     "data": {
      "text/plain": [
       "2.0"
      ]
     },
     "execution_count": 21,
     "metadata": {},
     "output_type": "execute_result"
    }
   ],
   "source": [
    "dpout[dpout != 0].mean()/x[dpout != 0].mean()"
   ]
  },
  {
   "cell_type": "markdown",
   "metadata": {},
   "source": [
    "## CNN  Func\n",
    "### tf.nn.conv2d & max_pool & min_pool"
   ]
  },
  {
   "cell_type": "code",
   "execution_count": 22,
   "metadata": {},
   "outputs": [],
   "source": [
    "def conv(input_data, filter_data, s, pad):\n",
    "    N, C, H, W = input_data.shape # 取四維度的值\n",
    "    FH, FW = filter_data.shape[2:4] # filter_data.shape (FN, C, FH, FW)\n",
    "    # 輸出shape OH, OW\n",
    "    OH = (H + 2*pad - FH)//s + 1\n",
    "    OW = (W + 2*pad - FW)//s + 1\n",
    "    # input_data資料填補 使用 np.pad()\n",
    "    img = np.pad(input_data, [(0,0), (0,0), (pad, pad), (pad, pad)], 'constant')\n",
    "    inp_col = np.zeros((N, C, OH, OW, FH, FW))\n",
    "    # col.shape = (N, C, OH, OW, FH, FW)  img.shpae = (N, C, H, W)\n",
    "    for i in range(OH):\n",
    "        y = i*s\n",
    "        for j in range(OW):\n",
    "            x = j*s\n",
    "            inp_col[:, :, y, x, :, :]= img[:, :, y:y+FH, x:x+FW]\n",
    "    '''\n",
    "    for y in range(FH):\n",
    "        y_max = y + s*OH\n",
    "        for x in range(FW):\n",
    "            x_max = x + s*OW\n",
    "            inp_col[:, :, :, :, y, x] = img[:, :, y:y_max:s, x:x_max:s]\n",
    "    '''\n",
    "    # inp_col shape transpose -> (N, OH, OW, C, FH, FW) -> reshape (N*OH*OW, C*FH*FW)\n",
    "    inp_col = inp_col.transpose(0, 2, 3, 1, 4, 5).reshape(N*OH*OW, -1)\n",
    "    filter_col = filter_data.reshape(FN, C*FH*FW ).transpose(1, 0)\n",
    "    otp = inp_col.dot(filter_col) # c.shape (N*OH*OW, FN) -> \"(N*OH*OW, C*FH*FW).(C*FH*FW, FN )\"\n",
    "    otp = otp.reshape(N, OH, OW, FN)\n",
    "    return otp\n",
    "\n",
    "def maxpool(input_data, filter_shape, s, pad):\n",
    "    N, C, H, W = input_data.shape # 取四維度的值\n",
    "    FH, FW = filter_shape # filter_data.shape (FN, C, FH, FW)\n",
    "    # 輸出shape OH, OW\n",
    "    OH = (H + 2*pad - FH)//s + 1\n",
    "    OW = (W + 2*pad - FW)//s + 1\n",
    "    # input_data資料填補 使用 np.pad()\n",
    "    img = np.pad(input_data, [(0,0), (0,0), (pad, pad), (pad, pad)], 'constant')\n",
    "    inp_col = np.zeros((N, C, OH, OW, FH, FW))\n",
    "    # col.shape = (N, C, OH, OW, FH, FW)  img.shpae = (N, C, H, W)\n",
    "    for i in range(OH):\n",
    "        y = i*s\n",
    "        for j in range(OW):\n",
    "            x = j*s\n",
    "            inp_col[:, :, y, x, :, :] = img[:, :, y:y+FH, x:x+FW]\n",
    "    # inp_col reshape (N, C, OH, OW, FH, FW) ->  (N, C, OH, OW, FH*FW)\n",
    "    inp_col = inp_col.reshape(N, C, OH, OW, FH*FW)\n",
    "    inp_col = inp_col.max(axis=4) # shape (N, C, OH, OW) value(FH*FW).max\n",
    "    otp = inp_col.transpose(0, 2, 3, 1) # shape transpose -> (N, OH, OW, C)\n",
    "    return otp\n",
    "\n",
    "def minpool(input_data, filter_shape, s, pad):\n",
    "    N, C, H, W = input_data.shape # 取四維度的值\n",
    "    FH, FW = filter_shape # filter_data.shape (FN, C, FH, FW)\n",
    "    # 輸出shape OH, OW\n",
    "    OH = (H + 2*pad - FH)//s + 1\n",
    "    OW = (W + 2*pad - FW)//s + 1\n",
    "    # input_data資料填補 使用 np.pad()\n",
    "    img = np.pad(input_data, [(0,0), (0,0), (pad, pad), (pad, pad)], 'constant')\n",
    "    inp_col = np.zeros((N, C, OH, OW, FH, FW))\n",
    "    # col.shape = (N, C, OH, OW, FH, FW)  img.shpae = (N, C, H, W)\n",
    "    for i in range(OH):\n",
    "        y = i*s\n",
    "        for j in range(OW):\n",
    "            x = j*s\n",
    "            inp_col[:, :, y, x, :, :] = img[:, :, y:y+FH, x:x+FW]\n",
    "    # inp_col reshape (N, C, OH, OW, FH, FW) ->  (N, C, OH, OW, FH*FW)\n",
    "    inp_col = inp_col.reshape(N, C, OH, OW, FH*FW)\n",
    "    inp_col = inp_col.min(axis=4) # shape (N, C, OH, OW) value(FH*FW).max\n",
    "    otp = inp_col.transpose(0, 2, 3, 1) # shape transpose -> (N, OH, OW, C)\n",
    "    return otp"
   ]
  },
  {
   "cell_type": "code",
   "execution_count": 23,
   "metadata": {},
   "outputs": [],
   "source": [
    "''' \n",
    "N: input 數量\n",
    "C: 色板 數量\n",
    "H: input 高度\n",
    "W: input 寬度\n",
    "FN: 濾鏡 數量\n",
    "FH: 濾鏡 高度\n",
    "FW: 濾鏡 寬度\n",
    "pad: 充填 大小\n",
    "s: 濾鏡 移動量\n",
    "OH: output 高度\n",
    "OW: output 寬度\n",
    "'''\n",
    "N, C, H, W = 2, 3, 6, 6\n",
    "FH, FW, FN = 2, 2, 4 \n",
    "pad, s = 0, 1\n",
    "\n",
    "inp = np.random.uniform(0, 1, (N, C, H, W)) # shpae (N, C, H, W)\n",
    "flter = np.random.uniform(0, 1, (FN, C, FH, FW)) # shpae (FN, C, FH, FW)\n",
    "\n",
    "#OH = (H + 2*pad - FH)//s + 1\n",
    "#OW = (W + 2*pad - FW)//s + 1\n",
    "\n",
    "tfinp = inp.transpose(0, 2, 3, 1) # shpae (N, H, W, C)\n",
    "tfflter = flter.transpose(2, 3, 1 ,0) # shape (FH, FW, C, FN)"
   ]
  },
  {
   "cell_type": "code",
   "execution_count": 24,
   "metadata": {},
   "outputs": [
    {
     "name": "stdout",
     "output_type": "stream",
     "text": [
      "tfcov == cov :  True\n"
     ]
    }
   ],
   "source": [
    "cov = conv(inp, flter, s, pad)\n",
    "tfconv = tf.nn.conv2d(input=tfinp, filter=tfflter, strides=[1, s, s, 1], padding='VALID') # padding='SAME'or'VALID'\n",
    "with tf.Session() as sess:\n",
    "    tfcov = sess.run(tfconv)\n",
    "print('tfcov == cov : ', (tfcov - cov).mean()<1e-10)"
   ]
  },
  {
   "cell_type": "code",
   "execution_count": 25,
   "metadata": {},
   "outputs": [
    {
     "name": "stdout",
     "output_type": "stream",
     "text": [
      "tfmaxpol == maxpol :  True\n"
     ]
    }
   ],
   "source": [
    "maxpol = maxpool(inp, [FH, FW], s, pad)\n",
    "tfmaxpool = tf.nn.max_pool(value=tfinp, ksize=[1, FH, FW, 1], strides=[1, s, s, 1], padding='VALID')\n",
    "with tf.Session() as sess:\n",
    "    tfmaxpol = sess.run(tfmaxpool)\n",
    "print('tfmaxpol == maxpol : ', (tfmaxpol - maxpol).mean()<1e-10)"
   ]
  },
  {
   "cell_type": "code",
   "execution_count": 26,
   "metadata": {},
   "outputs": [
    {
     "name": "stdout",
     "output_type": "stream",
     "text": [
      "tfminpol == minpol :  True\n"
     ]
    }
   ],
   "source": [
    "minpol = minpool(inp, [FH, FW], s, pad)\n",
    "tfminpool = -tf.nn.max_pool(value=-tfinp, ksize=[1, FH, FW, 1], strides=[1, s, s, 1], padding='VALID') #用兩個 - 模擬最小池化\n",
    "with tf.Session() as sess:\n",
    "    tfminpol = sess.run(tfminpool)\n",
    "print('tfminpol == minpol : ', (tfminpol - minpol).mean()<1e-10)"
   ]
  },
  {
   "cell_type": "code",
   "execution_count": 27,
   "metadata": {},
   "outputs": [
    {
     "name": "stdout",
     "output_type": "stream",
     "text": [
      "(2, 3, 6, 6)\n",
      "(2, 4, 5, 5)\n"
     ]
    }
   ],
   "source": [
    "N, C, H, W = 2, 3, 6, 6\n",
    "FH, FW, FN = 3, 3, 4 \n",
    "pad, s = 0, 2\n",
    "\n",
    "inp = np.random.uniform(0, 1, (N, C, H, W)) # shpae (N, C, H, W)\n",
    "flter = np.random.uniform(0, 1, (FN, C, FH, FW)) # shpae (FN, C, FH, FW)\n",
    "\n",
    "#OH = (H + 2*pad - FH)//s + 1\n",
    "#OW = (W + 2*pad - FW)//s + 1\n",
    "\n",
    "tfinp = inp.transpose(0, 2, 3, 1) # shpae (N, H, W, C)\n",
    "tfflter = flter.transpose(2, 3, 1 ,0) # shape (FH, FW, C, FN)\n",
    "\n",
    "valconv = tf.nn.conv2d(input=tfinp, filter=tfflter, strides=[1, s, s, 1], padding='VALID') # padding='SAME'or'VALID'\n",
    "samconv = tf.nn.conv2d(input=tfinp, filter=tfflter, strides=[1, s, s, 1], padding='SAME') # padding='SAME'or'VALID'\n",
    "with tf.Session() as sess:\n",
    "    aa = sess.run(tfconv)\n",
    "    bb = sess.run(tfconv)\n",
    "print(inp.shape)\n",
    "print(tfcov.transpose(0,3,1,2).shape)"
   ]
  },
  {
   "cell_type": "code",
   "execution_count": null,
   "metadata": {},
   "outputs": [],
   "source": []
  }
 ],
 "metadata": {
  "kernelspec": {
   "display_name": "Python 3",
   "language": "python",
   "name": "python3"
  },
  "language_info": {
   "codemirror_mode": {
    "name": "ipython",
    "version": 3
   },
   "file_extension": ".py",
   "mimetype": "text/x-python",
   "name": "python",
   "nbconvert_exporter": "python",
   "pygments_lexer": "ipython3",
   "version": "3.6.6"
  }
 },
 "nbformat": 4,
 "nbformat_minor": 2
}
