{
 "cells": [
  {
   "cell_type": "markdown",
   "metadata": {},
   "source": [
    "# 配合ML4 Classification"
   ]
  },
  {
   "cell_type": "code",
   "execution_count": 1,
   "metadata": {},
   "outputs": [],
   "source": [
    "import tensorflow as tf\n",
    "import numpy as np\n",
    "import matplotlib.pyplot as plt\n",
    "plt.style.use('classic')\n",
    "%matplotlib inline"
   ]
  },
  {
   "cell_type": "markdown",
   "metadata": {},
   "source": [
    "## Generative"
   ]
  },
  {
   "cell_type": "code",
   "execution_count": 2,
   "metadata": {},
   "outputs": [],
   "source": [
    "def sigma(x, u): # P18\n",
    "    s1, s2 = x.shape[0:2]\n",
    "    d = (x - u)\n",
    "    s = np.zeros(shape=[s2, s2])\n",
    "    for i in range(s1):\n",
    "        s += d[i].dot(d[i].T)        \n",
    "    return s/s1\n",
    "\n",
    "def Gauss(u, s_inv):\n",
    "    axis1 = np.linspace(0, 201, 201)\n",
    "    ax1, ax2 = np.meshgrid(axis1, axis1)\n",
    "    ax1 = ax1[:, np.newaxis]\n",
    "    ax2 = ax2[:, np.newaxis]\n",
    "    x = np.hstack((ax1, ax2)).transpose(0,2,1)[:,:,:, np.newaxis]\n",
    "    f = ((x - u).transpose(0, 1, 3, 2).dot(s_inv))\n",
    "    r = (x - u)\n",
    "    f = f.reshape(-1, f.shape[2], f.shape[3])\n",
    "    r = r.reshape(-1, r.shape[2], r.shape[3])\n",
    "    gss = np.array([])\n",
    "    for i in range(f.shape[0]):\n",
    "        gss = np.append(gss, f[i].dot(r[i]))\n",
    "    gss = gss.reshape(int(f.shape[0]**0.5),-1)\n",
    "    gss = np.exp(-gss*0.5)\n",
    "    \n",
    "    return gss"
   ]
  },
  {
   "cell_type": "markdown",
   "metadata": {},
   "source": [
    "### 資料生成"
   ]
  },
  {
   "cell_type": "code",
   "execution_count": 3,
   "metadata": {},
   "outputs": [
    {
     "data": {
      "text/plain": [
       "(0, 200)"
      ]
     },
     "execution_count": 3,
     "metadata": {},
     "output_type": "execute_result"
    },
    {
     "data": {
      "image/png": "[encoded data removed]",
      "text/plain": [
       "<Figure size 432x288 with 1 Axes>"
      ]
     },
     "metadata": {
      "needs_background": "light"
     },
     "output_type": "display_data"
    }
   ],
   "source": [
    "size1 = 170 # x1資料數\n",
    "size2 = 110 # x2資料數\n",
    "x11 = np.random.normal(loc=80, scale=40, size=[size1, 1])\n",
    "x12 = np.random.normal(loc=71, scale=25, size=[size1, 1])\n",
    "x1 = np.hstack((x11, x12)).reshape(-1, 2, 1)\n",
    "x21 = np.random.normal(loc= 131, scale=25, size=[size2, 1])\n",
    "x22 = np.random.normal(loc= 113, scale=25, size=[size2, 1])\n",
    "x2 = np.hstack((x21, x22)).reshape(-1, 2, 1)\n",
    "\n",
    "plt.plot(x1[:, 0, :], x1[:, 1, :], '.b')\n",
    "plt.plot(x2[:, 0, :], x2[:, 1, :], '.r')\n",
    "plt.xlim(0, 200)\n",
    "plt.ylim(0, 200)"
   ]
  },
  {
   "cell_type": "markdown",
   "metadata": {},
   "source": [
    "### 不同Sigma"
   ]
  },
  {
   "cell_type": "code",
   "execution_count": null,
   "metadata": {},
   "outputs": [],
   "source": [
    "u1 = x1.mean(0)\n",
    "u2 = x2.mean(0)\n",
    "sigma1 = sigma(x1, u1)\n",
    "sigma2 = sigma(x2, u2)\n",
    "sigma1_inv = np.linalg.inv(sigma1) # 逆矩陣\n",
    "sigma2_inv = np.linalg.inv(sigma2) # 逆矩陣\n",
    "gss1 = Gauss(u1, sigma1_inv)\n",
    "gss2 = Gauss(u2, sigma2_inv)\n",
    "\n",
    "all_size = size1 + size2 \n",
    "b = gss1 * size1/ all_size\n",
    "r = gss2 * size2/ all_size\n",
    "plt.contour(r/(b+r), 1, extent=[0, 200, 0, 200], cmap=plt.cm.cool_r)\n",
    "plt.contour(gss1, 5, extent=[0, 200, 0, 200], cmap=plt.cm.coolwarm)\n",
    "plt.contour(gss2, 5, extent=[0, 200, 0, 200], cmap=plt.cm.coolwarm_r)\n",
    "plt.plot(x1[:, 0, :], x1[:, 1, :], '.b')\n",
    "plt.plot(x2[:, 0, :], x2[:, 1, :], '.r')\n",
    "plt.xlim(0, 200)\n",
    "plt.ylim(0, 200)"
   ]
  },
  {
   "cell_type": "markdown",
   "metadata": {},
   "source": [
    "### 共用sigma"
   ]
  },
  {
   "cell_type": "code",
   "execution_count": null,
   "metadata": {},
   "outputs": [],
   "source": [
    "sigma = ((sigma1 * size1) + (sigma2 * size2)) / all_size\n",
    "sigma_inv = np.linalg.inv(sigma)\n",
    "gss1 = Gauss(u1, sigma_inv)\n",
    "gss2 = Gauss(u2, sigma_inv)\n",
    "bp = gss1 * size1/ all_size\n",
    "rp = gss2 * size2/ all_size\n",
    "\n",
    "plt.contour(rp/(bp+rp), 1, extent=[0, 200, 0, 200], cmap=plt.cm.bone)\n",
    "plt.contour(gss1, 5, extent=[0, 200, 0, 200], cmap=plt.cm.coolwarm)\n",
    "plt.contour(gss2, 5, extent=[0, 200, 0, 200], cmap=plt.cm.coolwarm_r)\n",
    "plt.plot(x1[:, 0, :], x1[:, 1, :], '.b')\n",
    "plt.plot(x2[:, 0, :], x2[:, 1, :], '.r')\n",
    "plt.xlim(0, 200)\n",
    "plt.ylim(0, 200)"
   ]
  },
  {
   "cell_type": "markdown",
   "metadata": {},
   "source": [
    "## Discriminative"
   ]
  },
  {
   "cell_type": "markdown",
   "metadata": {},
   "source": [
    "### 1 layer  線性分類"
   ]
  },
  {
   "cell_type": "code",
   "execution_count": null,
   "metadata": {},
   "outputs": [],
   "source": [
    "x1 = x1.reshape(size1, -1)\n",
    "x2 = x2.reshape(size2, -1)\n",
    "x = np.vstack((x1, x2)) #資料整合起來train\n",
    "x_train = (x/x.max()).astype(np.float32) # x 資料處理過 0~1  另外TF需要float32資料格式\n",
    "t_train = np.zeros_like(x_train, dtype=np.int)\n",
    "t_train[0:size1, 0], t_train[size1:all_size, 1] = 1, 1"
   ]
  },
  {
   "cell_type": "code",
   "execution_count": null,
   "metadata": {},
   "outputs": [],
   "source": [
    "W = tf.Variable(name='W', initial_value=tf.random_normal(shape=[2, 2], stddev=(2.0/2)**0.5))\n",
    "b = tf.Variable(name='b', initial_value=tf.random_normal(shape=[2], stddev=(2.0/2)**0.5))\n",
    "\n",
    "Wx_plus_b = tf.add(tf.matmul(x_train, W), b)\n",
    "z = tf.sigmoid(Wx_plus_b)\n",
    "y = tf.nn.softmax(z)\n",
    "\n",
    "loss = -tf.reduce_mean(tf.reduce_sum((t_train * tf.log(tf.clip_by_value(y, 1e-16, 1))), axis=1))\n",
    "train_way = tf.train.GradientDescentOptimizer(learning_rate=0.05)\n",
    "train_step = train_way.minimize(loss)\n",
    "\n",
    "# tf.cast() 改變資料型態 np.astype change dtype\n",
    "acc = tf.cast(tf.equal(tf.argmax(y, axis=1), tf.argmax(t_train, axis=1)), tf.float32)\n",
    "accuracy = tf.reduce_mean(acc, name='accuracy')\n",
    "\n",
    "sess = tf.Session()\n",
    "sess.run(tf.global_variables_initializer()) # 變數初始化"
   ]
  },
  {
   "cell_type": "code",
   "execution_count": null,
   "metadata": {},
   "outputs": [],
   "source": [
    "for i_ in range(20001):\n",
    "\n",
    "    sess.run(train_step)\n",
    "    \n",
    "    if i_ % 5000 == 0:\n",
    "    # Accuracy test data\n",
    "        acc = sess.run(accuracy)*100\n",
    "        los = sess.run(loss)\n",
    "        print('%5d  train:%.2f  loss:%.2f'%(i_, acc, los))\n",
    "line = sess.run(y).argmax(1)\n",
    "#sess.close()"
   ]
  },
  {
   "cell_type": "code",
   "execution_count": null,
   "metadata": {},
   "outputs": [],
   "source": [
    "x1 = x[line==0]\n",
    "x2 = x[line==1]\n",
    "plt.contour(rp/(bp+rp), 1, extent=[0, 200, 0, 200], cmap=plt.cm.bone) # Generative 分類線\n",
    "plt.plot(x1[:, 0], x1[:, 1], '.b')\n",
    "plt.plot(x2[:, 0], x2[:, 1], '.r')\n",
    "plt.xlim(0, 200)\n",
    "plt.ylim(0, 200)"
   ]
  },
  {
   "cell_type": "markdown",
   "metadata": {},
   "source": [
    "### 2 Layer 非線性分類(有機會...)~"
   ]
  },
  {
   "cell_type": "code",
   "execution_count": null,
   "metadata": {},
   "outputs": [],
   "source": [
    "a = np.array([[0, 0], [1, 1]])\n",
    "b = np.array([[1, 0], [0, 1]])\n",
    "x = np.array([[0, 0], [1, 1], [1, 0], [0, 1]]).astype(np.float32)\n",
    "t = np.array([[1, 0], [1, 0], [0, 1], [0, 1]])\n",
    "plt.plot(a[:, 0], a[:, 1], 'ob')\n",
    "plt.plot(b[:, 0], b[:, 1], 'or')\n",
    "plt.xlim(-0.2, 1.2)\n",
    "plt.ylim(-0.2, 1.2)"
   ]
  },
  {
   "cell_type": "code",
   "execution_count": null,
   "metadata": {},
   "outputs": [],
   "source": [
    "W1 = tf.Variable(name='W1', initial_value=tf.random_normal(shape=[2, 2], stddev=(2.0/2)**0.5, seed=47))\n",
    "b1 = tf.Variable(name='b1', initial_value=tf.random_normal(shape=[2], stddev=(2.0/2)**0.5, seed=47))\n",
    "W2 = tf.Variable(name='W2', initial_value=tf.random_normal(shape=[2, 2], stddev=(2.0/2)**0.5, seed=47))\n",
    "b2 = tf.Variable(name='b2', initial_value=tf.random_normal(shape=[2], stddev=(2.0/2)**0.5, seed=47))\n",
    "x_train = tf.placeholder(tf.float32, shape=[None, 2])\n",
    "W1x_plus_b1 = tf.add(tf.matmul(x_train, W1), b1)\n",
    "z1 = tf.sigmoid(W1x_plus_b1)\n",
    "W2z1_plus_b2 = tf.add(tf.matmul(z1, W2), b2)\n",
    "z2 = tf.sigmoid(W2z1_plus_b2)\n",
    "y = tf.nn.softmax(z2)\n",
    "\n",
    "loss = -tf.reduce_mean(tf.reduce_sum((t * tf.log(tf.clip_by_value(y, 1e-16, 1))), axis=1))\n",
    "train_way = tf.train.MomentumOptimizer(learning_rate=0.1, momentum=0.9)\n",
    "train_step = train_way.minimize(loss)\n",
    "\n",
    "# tf.cast() 改變資料型態 np.astype change dtype\n",
    "acc = tf.cast(tf.equal(tf.argmax(y, axis=1), tf.argmax(t, axis=1)), tf.float32)\n",
    "accuracy = tf.reduce_mean(acc, name='accuracy')\n",
    "\n",
    "sess = tf.Session()\n",
    "sess.run(tf.global_variables_initializer()) # 變數初始化"
   ]
  },
  {
   "cell_type": "code",
   "execution_count": null,
   "metadata": {},
   "outputs": [],
   "source": [
    "feed_dict = {x_train:x}\n",
    "for i_ in range(2001):\n",
    "    sess.run(train_step, feed_dict=feed_dict)\n",
    "    if i_ % 200 == 0:\n",
    "    # Accuracy test data\n",
    "        acc, los = sess.run([accuracy, loss], feed_dict=feed_dict)\n",
    "        print('%5d  train:%.2f  loss:%.2f'%(i_, acc*100, los))\n",
    "line = sess.run(y, feed_dict=feed_dict).argmax(1)\n",
    "#sess.close()"
   ]
  },
  {
   "cell_type": "code",
   "execution_count": null,
   "metadata": {},
   "outputs": [],
   "source": [
    "p = 51\n",
    "ax = np.linspace(-0.2, 1.2, p)\n",
    "ax1, ax2 = np.meshgrid(ax, ax)\n",
    "ax1 = ax1[:, np.newaxis]\n",
    "ax2 = ax2[:, np.newaxis]\n",
    "ax = np.hstack((ax1, ax2)).transpose(0,2,1)"
   ]
  },
  {
   "cell_type": "code",
   "execution_count": null,
   "metadata": {},
   "outputs": [],
   "source": [
    "a = x[line==0]\n",
    "b = x[line==1]\n",
    "plt.plot(a[:, 0], a[:, 1], 'ob')\n",
    "plt.plot(b[:, 0], b[:, 1], 'or')\n",
    "plt.xlim(-0.2, 1.2)\n",
    "plt.ylim(-0.2, 1.2)\n",
    "\n",
    "ll = sess.run(y, feed_dict={x_train:ax.reshape(-1, 2)})[:, 0].reshape(p, p)\n",
    "plt.contour(ll, 15, extent=[-0.2, 1.2, -0.2, 1.2], cmap=plt.cm.rainbow_r)"
   ]
  },
  {
   "cell_type": "code",
   "execution_count": null,
   "metadata": {},
   "outputs": [],
   "source": []
  }
 ],
 "metadata": {
  "kernelspec": {
   "display_name": "Python 3",
   "language": "python",
   "name": "python3"
  },
  "language_info": {
   "codemirror_mode": {
    "name": "ipython",
    "version": 3
   },
   "file_extension": ".py",
   "mimetype": "text/x-python",
   "name": "python",
   "nbconvert_exporter": "python",
   "pygments_lexer": "ipython3",
   "version": "3.6.6"
  }
 },
 "nbformat": 4,
 "nbformat_minor": 2
}
